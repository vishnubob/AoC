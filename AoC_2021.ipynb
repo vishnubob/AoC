{
  "nbformat": 4,
  "nbformat_minor": 0,
  "metadata": {
    "colab": {
      "name": "AoC.2021",
      "provenance": [],
      "mount_file_id": "1z_UdPl1Tpl7ULy9v9hHT3hiNWdVkEZ1i",
      "authorship_tag": "ABX9TyMk55LwP755Ah1eQ8dSr9Bz",
      "include_colab_link": true
    },
    "kernelspec": {
      "display_name": "Python 3",
      "name": "python3"
    },
    "language_info": {
      "name": "python"
    }
  },
  "cells": [
    {
      "cell_type": "markdown",
      "metadata": {
        "id": "view-in-github",
        "colab_type": "text"
      },
      "source": [
        "<a href=\"https://colab.research.google.com/github/vishnubob/AoC2021/blob/main/AoC_2021.ipynb\" target=\"_parent\"><img src=\"https://colab.research.google.com/assets/colab-badge.svg\" alt=\"Open In Colab\"/></a>"
      ]
    },
    {
      "cell_type": "code",
      "metadata": {
        "id": "waqo9f86KTAA"
      },
      "source": [
        "import os\n",
        "import re\n",
        "import requests\n",
        "import numpy as np\n",
        "\n",
        "cache_dir = \"/content/drive/MyDrive/AoC2021/\"\n",
        "\n",
        "session_fn = f\"{cache_dir}/session_id\"\n",
        "with open(session_fn) as fh:\n",
        "    session_id = fh.read().strip()\n",
        "\n",
        "def aoc_input(day, split=True):\n",
        "    url = f\"https://adventofcode.com/2021/day/{day}/input\"\n",
        "    cache_fn = f\"{cache_dir}/d{day}.dat\"\n",
        "    if not os.path.exists(cache_fn):\n",
        "        cookies = {'session': session_id}\n",
        "        resp = requests.get(url, cookies=cookies)\n",
        "        data = resp.content.decode()\n",
        "        with open(cache_fn, 'w') as fh:\n",
        "            fh.write(data)\n",
        "    with open(cache_fn) as fh:\n",
        "        data = fh.read()\n",
        "    data = data.strip()\n",
        "    if split:\n",
        "        data = data.split('\\n')\n",
        "    return data"
      ],
      "execution_count": 13,
      "outputs": []
    },
    {
      "cell_type": "code",
      "metadata": {
        "colab": {
          "base_uri": "https://localhost:8080/"
        },
        "id": "j9_JQIIzKX4W",
        "outputId": "03ed01af-757c-4c53-997a-2e7575284384"
      },
      "source": [
        "inp = aoc_input(1)\n",
        "\n",
        "# day 1, puzzle 1\n",
        "inp = np.array([int(x) for x in inp])\n",
        "cnt = np.sum((inp[1:] - inp[:-1]) > 0)\n",
        "print(f\"Day 1, puzzle 1: {cnt}\")\n",
        "\n",
        "# day 1, puzzle 2\n",
        "strides = (inp.strides[0], inp.strides[0])\n",
        "shape = (len(inp) - 2, 3)\n",
        "inp2 = np.lib.stride_tricks.as_strided(inp, shape=shape, strides=strides)\n",
        "inp2 = np.sum(inp2, axis=1)\n",
        "cnt = np.sum((inp2[1:] - inp2[:-1]) > 0)\n",
        "print(f\"Day 1, puzzle 2: {cnt}\")"
      ],
      "execution_count": null,
      "outputs": [
        {
          "output_type": "stream",
          "name": "stdout",
          "text": [
            "Day 1, puzzle 1: 1316\n",
            "Day 1, puzzle 2: 1344\n"
          ]
        }
      ]
    },
    {
      "cell_type": "code",
      "metadata": {
        "colab": {
          "base_uri": "https://localhost:8080/"
        },
        "id": "Rd9X9otOrwwY",
        "outputId": "e2ba8c76-6a23-4271-c26d-3b5ea478fa24"
      },
      "source": [
        "inp = aoc_input(2)\n",
        "\n",
        "# day 2, puzzle 1\n",
        "axis_map = [\"forward\", \"down\", \"up\"]\n",
        "axis_id = np.eye(3, dtype=np.int)\n",
        "inp = [line.split(' ') for line in inp]\n",
        "cols = np.array([int(val) * axis_id[axis_map.index(dr)] for (dr, val) in inp])\n",
        "sums = np.sum(cols, axis=0)\n",
        "prod = sums[0] * (sums[1] - sums[2])\n",
        "print(f\"Day 2, puzzle 1: {prod}\")\n",
        "\n",
        "# day 2, puzzle 2\n",
        "aim = np.cumsum((cols[:, 1] + -cols[:, 2]))\n",
        "prod = np.sum(cols[:, 0]) * np.sum(cols[:, 0] * aim)\n",
        "print(f\"Day 2, puzzle 2: {prod}\")\n"
      ],
      "execution_count": null,
      "outputs": [
        {
          "output_type": "stream",
          "name": "stdout",
          "text": [
            "Day 2, puzzle 1: 1499229\n",
            "Day 2, puzzle 2: 1340836560\n"
          ]
        }
      ]
    },
    {
      "cell_type": "code",
      "metadata": {
        "id": "HQd5Dmy1rz3T",
        "colab": {
          "base_uri": "https://localhost:8080/"
        },
        "outputId": "b60e8ffb-1b69-4d71-d0a4-81a407926a57"
      },
      "source": [
        "inp = aoc_input(3)\n",
        "\n",
        "# day 3, puzzle 1\n",
        "n_items = len(inp)\n",
        "shape = (n_items, -1)\n",
        "inp = str.join('', inp).encode()\n",
        "inp = (np.frombuffer(inp, dtype=np.uint8).reshape(shape) - ord('0')).astype(np.int)\n",
        "bits = (2 ** np.arange(inp.shape[1]))[::-1]\n",
        "gamma = np.sum(bits * (np.sum(inp.T, axis=1) > (inp.shape[0] // 2)))\n",
        "prod = gamma * (~gamma & (2 ** inp.shape[1] - 1))\n",
        "print(f\"Day 3, puzzle 1: {prod}\")\n",
        "\n",
        "# day 3, puzzle 2\n",
        "t_col = lambda tbl, col: (np.sum(tbl.T, axis=1) >= ((tbl.shape[0] + 1) // 2))[col]\n",
        "t_mask = lambda tbl, col: tbl[tbl.T[col, :] == t_col(tbl, col)]\n",
        "t_find = lambda tbl, col: tbl if tbl.shape[0] == 1 else t_find(t_mask(tbl, col), col + 1)\n",
        "o2 = np.sum(bits * t_find(inp, 0))\n",
        "t_col = lambda tbl, col: (np.sum(tbl.T, axis=1) <= ((tbl.shape[0] - 1) // 2))[col]\n",
        "co2 = np.sum(bits * t_find(inp, 0))\n",
        "prod = o2 * co2\n",
        "print(f\"Day 3, puzzle 2: {prod}\")"
      ],
      "execution_count": null,
      "outputs": [
        {
          "output_type": "stream",
          "name": "stdout",
          "text": [
            "Day 3, puzzle 1: 2648450\n",
            "Day 3, puzzle 2: 2845944\n"
          ]
        }
      ]
    },
    {
      "cell_type": "code",
      "metadata": {
        "colab": {
          "base_uri": "https://localhost:8080/"
        },
        "id": "PX-NJHx71mbX",
        "outputId": "5d7f3f3b-2947-4c93-b406-f4ffdcba2fa8"
      },
      "source": [
        "inp = aoc_input(4, split=False)\n",
        "\n",
        "# day 4, puzzle 1\n",
        "\n",
        "n_items = len(inp)\n",
        "inp = inp.strip().split('\\n\\n')\n",
        "n_boards = len(inp) - 1\n",
        "calls = np.fromiter(map(int, inp[0].split(',')), dtype=np.int)\n",
        "inp = map(int, re.sub('\\s+', ' ', str.join(' ', inp[1:]).replace('\\n', ' ')).split(' '))\n",
        "inp = np.fromiter(inp, dtype=np.int)\n",
        "dim = int((len(inp) / n_boards) ** 0.5)\n",
        "inp = inp.reshape((n_boards, dim, dim))\n",
        "\n",
        "def mark_and_check(call, inp, marks):\n",
        "    bingo = -inp.shape[-1]\n",
        "    marks[inp == call] = -1\n",
        "    check = \\\n",
        "        (np.sum(marks.T, axis=0) == bingo) \\\n",
        "      | (np.sum(marks.T, axis=1) == bingo)\n",
        "    if np.any(check):\n",
        "        idx = np.argmax(check)\n",
        "        winner = np.unravel_index(idx, check.shape)[1]\n",
        "        idx = marks[winner] == 0\n",
        "        return (winner, np.sum(inp[winner][idx]) * call)\n",
        "\n",
        "def run_game(calls, inp, marks):\n",
        "    res = mark_and_check(calls[0], inp, marks)\n",
        "    if res is None:\n",
        "        return run_game(calls[1:], inp, marks)\n",
        "    return res[-1]\n",
        "\n",
        "marks = np.zeros_like(inp)\n",
        "prod = run_game(calls, inp, marks)\n",
        "print(f\"Day 4, puzzle 1: {prod}\")\n",
        "\n",
        "# day 4, puzzle 2\n",
        "\n",
        "def find_last(calls, inp, marks, last_prod=None):\n",
        "    if len(calls) == 0:\n",
        "        return last_prod\n",
        "    res = mark_and_check(calls[0], inp, marks)\n",
        "    if res is not None:\n",
        "        (winner, last_prod) = res\n",
        "        inp = np.delete(inp, winner, 0)\n",
        "        marks = np.delete(marks, winner, 0)\n",
        "        return find_last(calls, inp, marks, last_prod)\n",
        "    else:\n",
        "        return find_last(calls[1:], inp, marks, last_prod)\n",
        "\n",
        "marks = np.zeros_like(inp)\n",
        "prod = find_last(calls, inp, marks)\n",
        "print(f\"Day 4, puzzle 2: {prod}\")"
      ],
      "execution_count": 165,
      "outputs": [
        {
          "output_type": "stream",
          "name": "stdout",
          "text": [
            "Day 4, puzzle 1: 49860\n",
            "Day 4, puzzle 2: 24628\n"
          ]
        }
      ]
    }
  ]
}