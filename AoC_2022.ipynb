{
  "nbformat": 4,
  "nbformat_minor": 0,
  "metadata": {
    "colab": {
      "provenance": [],
      "mount_file_id": "1wbFyYISFHCphoMaKDUXqKo9JHw4v46Mv",
      "authorship_tag": "ABX9TyPi64pcQmFFYkZS5XyQxdCy",
      "include_colab_link": true
    },
    "kernelspec": {
      "display_name": "Python 3",
      "name": "python3"
    },
    "language_info": {
      "name": "python"
    }
  },
  "cells": [
    {
      "cell_type": "markdown",
      "metadata": {
        "id": "view-in-github",
        "colab_type": "text"
      },
      "source": [
        "<a href=\"https://colab.research.google.com/github/vishnubob/AoC/blob/main/AoC_2022.ipynb\" target=\"_parent\"><img src=\"https://colab.research.google.com/assets/colab-badge.svg\" alt=\"Open In Colab\"/></a>"
      ]
    },
    {
      "cell_type": "code",
      "metadata": {
        "id": "waqo9f86KTAA"
      },
      "source": [
        "import os\n",
        "import re\n",
        "import sys\n",
        "import collections\n",
        "import functools\n",
        "import itertools\n",
        "import operator\n",
        "import requests\n",
        "import numpy as np\n",
        "import scipy.signal\n",
        "from tqdm import tqdm\n",
        "from pprint import pprint\n",
        "\n",
        "cache_dir = \"/content/drive/MyDrive/AoC2022/\"\n",
        "\n",
        "session_fn = f\"{cache_dir}/session_id\"\n",
        "with open(session_fn) as fh:\n",
        "    session_id = fh.read().strip()\n",
        "\n",
        "def aoc_input(day, split=True):\n",
        "    url = f\"https://adventofcode.com/2022/day/{day}/input\"\n",
        "    cache_fn = f\"{cache_dir}/d{day}.dat\"\n",
        "    if not os.path.exists(cache_fn):\n",
        "        cookies = {'session': session_id}\n",
        "        resp = requests.get(url, cookies=cookies)\n",
        "        with open(cache_fn, 'wb') as fh:\n",
        "            fh.write(resp.content)\n",
        "    with open(cache_fn) as fh:\n",
        "        data = fh.read()\n",
        "    data = data.strip()\n",
        "    if split:\n",
        "        data = data.split('\\n')\n",
        "    return data"
      ],
      "execution_count": 1,
      "outputs": []
    },
    {
      "cell_type": "code",
      "metadata": {
        "colab": {
          "base_uri": "https://localhost:8080/"
        },
        "id": "j9_JQIIzKX4W",
        "outputId": "78082150-f575-4314-f0dc-20f374f043c7"
      },
      "source": [
        "inp = aoc_input(1)\n",
        "\n",
        "def parse_input(inp):\n",
        "    vals = []\n",
        "    for item in inp:\n",
        "        if not item:\n",
        "            yield tuple(vals)\n",
        "            vals = []\n",
        "            continue\n",
        "        vals.append(int(item))\n",
        "    if vals:\n",
        "        yield tuple(vals)\n",
        "\n",
        "# d1p1\n",
        "sums = list(map(sum, parse_input(inp)))\n",
        "print(max(sums))\n",
        "# d1p2\n",
        "print(sum(sorted(sums, reverse=True)[:3]))\n"
      ],
      "execution_count": 2,
      "outputs": [
        {
          "output_type": "stream",
          "name": "stdout",
          "text": [
            "68775\n",
            "202585\n"
          ]
        }
      ]
    },
    {
      "cell_type": "code",
      "source": [
        "inp = aoc_input(2)\n",
        "\n",
        "def win_lose_draw(game):\n",
        "    (x, y) = game\n",
        "    if ((y + 1) % 3) == x:\n",
        "        return (y + 1)\n",
        "    if ((y - 1) % 3) == x:\n",
        "        return (y + 1 + 6)\n",
        "    return (y + 1 + 3)\n",
        "\n",
        "def next_move(game):\n",
        "    (x, y) = game\n",
        "    if y == 0:\n",
        "        return (x, (x - 1) % 3)\n",
        "    if y == 1:\n",
        "        return (x, x)\n",
        "    return (x, (x + 1) % 3)\n",
        "\n",
        "nums = lambda it: it.split(' ')\n",
        "inp = [(2 - (ord('C') - ord(x)), 2 - (ord('Z') - ord(y))) for (x, y) in map(nums, inp)]\n",
        "print(sum(map(win_lose_draw, inp)))\n",
        "print(sum(map(win_lose_draw, map(next_move, inp))))\n"
      ],
      "metadata": {
        "colab": {
          "base_uri": "https://localhost:8080/"
        },
        "id": "ujPineY2Ux5D",
        "outputId": "1afc423b-f620-4ce8-9195-b65daa687fb4"
      },
      "execution_count": 3,
      "outputs": [
        {
          "output_type": "stream",
          "name": "stdout",
          "text": [
            "10624\n",
            "14060\n"
          ]
        }
      ]
    },
    {
      "cell_type": "code",
      "source": [
        "inp = aoc_input(3)\n",
        "\n",
        "packs = [(set(val[:len(val) // 2]) & set(val[len(val) // 2:])) for val in inp]\n",
        "maps = {chr(ord('a') + x): (x + 1) for x in range(26)}\n",
        "maps.update({chr(ord('A') + x): (x + 27) for x in range(26)})\n",
        "print(sum([maps[it[0]] for it in map(list, packs)]))\n",
        "\n",
        "i = iter(inp)\n",
        "print(sum([maps[list(it)[0]] for it in [set.intersection(*map(set, it)) for it in (zip(i, i, i))]]))\n"
      ],
      "metadata": {
        "id": "KfDgm8Ad1_Jl",
        "colab": {
          "base_uri": "https://localhost:8080/"
        },
        "outputId": "2f3029cb-b6ea-4471-eaca-1049dd970e95"
      },
      "execution_count": 4,
      "outputs": [
        {
          "output_type": "stream",
          "name": "stdout",
          "text": [
            "7428\n",
            "2650\n"
          ]
        }
      ]
    },
    {
      "cell_type": "code",
      "source": [
        "inp = aoc_input(4)\n",
        "\n",
        "to_intv = lambda it: tuple(map(int, it.split('-')))\n",
        "data = [tuple(map(to_intv, line.split(','))) for line in inp]\n",
        "is_contained = lambda it: (it[0][0] <= it[1][0] and it[0][1] >= it[1][1]) or (it[0][0] >= it[1][0] and it[0][1] <= it[1][1])\n",
        "print(sum([is_contained(it) for it in data]))\n",
        "is_overlap = lambda it: (it[0][0] >= it[1][0] and it[0][0] <= it[1][1]) or (it[0][1] >= it[1][0] and it[0][1] <= it[1][1]) or is_contained(it)\n",
        "print(sum([is_overlap(it) for it in data]))\n"
      ],
      "metadata": {
        "colab": {
          "base_uri": "https://localhost:8080/"
        },
        "id": "trzlRJ5xmX5D",
        "outputId": "d03c9d8d-fec3-4ed3-85ae-c08fd22163bf"
      },
      "execution_count": 5,
      "outputs": [
        {
          "output_type": "stream",
          "name": "stdout",
          "text": [
            "556\n",
            "876\n"
          ]
        }
      ]
    },
    {
      "cell_type": "code",
      "source": [
        "space_re = re.compile('\\s+')\n",
        "crate_re = re.compile('[\\w]')\n",
        "\n",
        "inp = \"\"\"   \n",
        "    [D] \n",
        "[N] [C]  \n",
        "[Z] [M] [P]\n",
        " 1   2   3 \n",
        "\n",
        "move 1 from 2 to 1\n",
        "move 3 from 1 to 3\n",
        "move 2 from 2 to 1\n",
        "move 1 from 1 to 2\n",
        "\"\"\"\n",
        "inp = inp.split('\\n')\n",
        "inp = aoc_input(5)\n",
        "\n",
        "moves = []\n",
        "crates = []\n",
        "for line in inp:\n",
        "    if not line.strip():\n",
        "        continue\n",
        "    if 'move' in line:\n",
        "        line = line.split(' ')\n",
        "        moves.append((int(line[1]), int(line[3]), int(line[5])))\n",
        "        continue\n",
        "    if line.startswith(' 1'):\n",
        "        continue\n",
        "    crates.append(line[1::4])\n",
        "\n",
        "max_len = max([len(ln) for ln in crates])\n",
        "new_crates = []\n",
        "for ln in crates:\n",
        "    n_pad = max_len - len(ln)\n",
        "    ln += ' ' * n_pad\n",
        "    new_crates.append(ln)\n",
        "crate_init = new_crates\n",
        "\n",
        "crates = [list(filter(bool, map(str.strip, st)))[::-1] for st in list(zip(*crate_init))]\n",
        "for (cnt, from_stack, to_stack) in moves:\n",
        "    payload = crates[from_stack - 1][-cnt:]\n",
        "    crates[to_stack - 1] += payload[::-1]\n",
        "    crates[from_stack - 1] = crates[from_stack - 1][:-cnt]\n",
        "\n",
        "tops = str.join('', crate_re.findall(str.join('', [it[-1] for it in crates])))\n",
        "print(tops)\n",
        "\n",
        "crates = [list(filter(bool, map(str.strip, st)))[::-1] for st in list(zip(*crate_init))]\n",
        "for (cnt, from_stack, to_stack) in moves:\n",
        "    payload = crates[from_stack - 1][-cnt:]\n",
        "    crates[to_stack - 1] += payload\n",
        "    crates[from_stack - 1] = crates[from_stack - 1][:-cnt]\n",
        "\n",
        "tops = str.join('', crate_re.findall(str.join('', [it[-1] for it in crates])))\n",
        "print(tops)"
      ],
      "metadata": {
        "id": "kZyBoWidnG5x",
        "colab": {
          "base_uri": "https://localhost:8080/"
        },
        "outputId": "18a516e9-8e8c-4fc1-f362-8af438f6ab2d"
      },
      "execution_count": 6,
      "outputs": [
        {
          "output_type": "stream",
          "name": "stdout",
          "text": [
            "TBVFVDZPN\n",
            "VLCWHTDSZ\n"
          ]
        }
      ]
    },
    {
      "cell_type": "code",
      "source": [
        "inp = aoc_input(6)\n",
        "\n",
        "for line in inp:\n",
        "    if not line.strip():\n",
        "        continue\n",
        "    kmers = [(x + 4, len(set(line[x:x+4])) == 4) for x in range(len(line) - 4)]\n",
        "    for (idx, val) in kmers:\n",
        "        if val:\n",
        "            print(idx)\n",
        "            break\n",
        "\n",
        "for line in inp:\n",
        "    if not line.strip():\n",
        "        continue\n",
        "    kmers = [(x + 14, len(set(line[x:x+14])) == 14) for x in range(len(line) - 14)]\n",
        "    for (idx, val) in kmers:\n",
        "        if val:\n",
        "            print(idx)\n",
        "            break"
      ],
      "metadata": {
        "id": "JZVyZrgZrix9",
        "colab": {
          "base_uri": "https://localhost:8080/"
        },
        "outputId": "a3c1eddd-36e4-4d4b-a416-ea0fda08e3bc"
      },
      "execution_count": 7,
      "outputs": [
        {
          "output_type": "stream",
          "name": "stdout",
          "text": [
            "1287\n",
            "3716\n"
          ]
        }
      ]
    },
    {
      "cell_type": "code",
      "source": [
        "inp = aoc_input(7)\n",
        "\n",
        "class Directory:\n",
        "    def __init__(self, name, parent):\n",
        "        self.name = name\n",
        "        self.parent = parent\n",
        "        self.files = {}\n",
        "        self.dirs = {}\n",
        "    \n",
        "    def add_file(self, filename=None, size=None):\n",
        "        self.files[filename] = size\n",
        "\n",
        "    def add_directory(self, name=None):\n",
        "        self.dirs[name] = self.__class__(name=name, parent=self)\n",
        "    \n",
        "    def get_directory(self, name=None):\n",
        "        if name not in self.dirs:\n",
        "            self.add_directory(name=name)\n",
        "        return self.dirs[name]\n",
        "    \n",
        "    @property\n",
        "    def local_size(self):\n",
        "        return sum(self.files.values())\n",
        "\n",
        "    @property\n",
        "    def size(self):\n",
        "        size = 0\n",
        "        for child in self.dirs.values():\n",
        "            size += child.size\n",
        "        return size + self.local_size\n",
        "    \n",
        "    def flatten(self):\n",
        "        for child in self.dirs.values():\n",
        "            yield from child.flatten()\n",
        "        yield self\n",
        "\n",
        "root = Directory(name='/', parent=None)\n",
        "fs = root\n",
        "\n",
        "for line in inp:\n",
        "    parts = line.split(' ')\n",
        "    if parts[0] == '$':\n",
        "        if parts[1] == 'cd':\n",
        "            dir_name = parts[-1]\n",
        "            if dir_name == '..':\n",
        "                fs = fs.parent\n",
        "            else:\n",
        "                fs = fs.get_directory(dir_name)\n",
        "        continue\n",
        "    elif parts[0] == 'dir':\n",
        "        dir_name = parts[-1]\n",
        "        fs.add_directory(dir_name)\n",
        "    else:\n",
        "        size = int(parts[0])\n",
        "        filename = parts[1]\n",
        "        fs.add_file(filename=filename, size=size)\n",
        "\n",
        "sizes = [node.size for node in root.flatten()]\n",
        "print(sum([sz for sz in sizes if sz < 1e5]))\n",
        "\n",
        "total_size = int(7e7)\n",
        "required_capacity = int(3e7)\n",
        "available_capacity = total_size - root.size\n",
        "needed_capacity = required_capacity - available_capacity\n",
        "deltas = [(node.name, node.size - needed_capacity, node.size) for node in root.flatten() if node.size - needed_capacity > 0]  \n",
        "deltas = sorted(deltas, key=lambda it: it[1])\n",
        "print(deltas[0][-1])"
      ],
      "metadata": {
        "colab": {
          "base_uri": "https://localhost:8080/"
        },
        "outputId": "24b201ca-e5ff-46d2-82a1-e631c91c7457",
        "id": "LAEy6hfQdfyZ"
      },
      "execution_count": 8,
      "outputs": [
        {
          "output_type": "stream",
          "name": "stdout",
          "text": [
            "1297683\n",
            "5756764\n"
          ]
        }
      ]
    },
    {
      "cell_type": "code",
      "source": [
        "inp = aoc_input(8)\n",
        "inp = np.array([list(map(int, line)) for line in inp])\n",
        "\n",
        "vis_count = (inp.shape[0] - 2) * 4 + 4\n",
        "for x in range(1, inp.shape[0] - 1):\n",
        "    for y in range(1, inp.shape[1] - 1):\n",
        "        val = inp[x][y]\n",
        "        row = 1 * (inp[x, :] < val)\n",
        "        col = 1 * (inp[:, y] < val)\n",
        "        codes = (row[:y], row[y+1:], col[:x], col[x+1:])\n",
        "        vis_count += int(any([np.sum(code) == len(code) for code in codes]))\n",
        "print(vis_count)\n",
        "\n",
        "scores = np.zeros_like(inp)\n",
        "for x in range(1, inp.shape[0] - 1):\n",
        "    for y in range(1, inp.shape[1] - 1):\n",
        "        val = inp[x][y]\n",
        "        row = 1 * (inp[x, :] < val)\n",
        "        col = 1 * (inp[:, y] < val)\n",
        "        codes = (row[:y][::-1], row[y+1:], col[:x][::-1], col[x+1:])\n",
        "        score = 1\n",
        "        for code in codes:\n",
        "            length = 0\n",
        "            for val in code:\n",
        "                length += 1\n",
        "                if not val:\n",
        "                    break\n",
        "            score *= length\n",
        "        scores[x][y] = score\n",
        "\n",
        "print(np.max(scores))"
      ],
      "metadata": {
        "colab": {
          "base_uri": "https://localhost:8080/"
        },
        "id": "bRnM0NmCH7eq",
        "outputId": "08369623-d641-4877-e479-106209c92ba0"
      },
      "execution_count": 9,
      "outputs": [
        {
          "output_type": "stream",
          "name": "stdout",
          "text": [
            "1827\n",
            "335580\n"
          ]
        }
      ]
    },
    {
      "cell_type": "code",
      "source": [],
      "metadata": {
        "id": "Y5bbfDl2IRwH"
      },
      "execution_count": 9,
      "outputs": []
    }
  ]
}