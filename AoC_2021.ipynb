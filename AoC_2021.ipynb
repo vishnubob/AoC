{
  "nbformat": 4,
  "nbformat_minor": 0,
  "metadata": {
    "colab": {
      "name": "AoC.2021",
      "provenance": [],
      "mount_file_id": "1z_UdPl1Tpl7ULy9v9hHT3hiNWdVkEZ1i",
      "authorship_tag": "ABX9TyMwPXcxoZenItEr5ZPgFgEC",
      "include_colab_link": true
    },
    "kernelspec": {
      "display_name": "Python 3",
      "name": "python3"
    },
    "language_info": {
      "name": "python"
    }
  },
  "cells": [
    {
      "cell_type": "markdown",
      "metadata": {
        "id": "view-in-github",
        "colab_type": "text"
      },
      "source": [
        "<a href=\"https://colab.research.google.com/github/vishnubob/AoC2021/blob/main/AoC_2021.ipynb\" target=\"_parent\"><img src=\"https://colab.research.google.com/assets/colab-badge.svg\" alt=\"Open In Colab\"/></a>"
      ]
    },
    {
      "cell_type": "code",
      "metadata": {
        "id": "waqo9f86KTAA"
      },
      "source": [
        "import os\n",
        "import re\n",
        "import itertools\n",
        "import requests\n",
        "import numpy as np\n",
        "import scipy.signal\n",
        "\n",
        "cache_dir = \"/content/drive/MyDrive/AoC2021/\"\n",
        "\n",
        "session_fn = f\"{cache_dir}/session_id\"\n",
        "with open(session_fn) as fh:\n",
        "    session_id = fh.read().strip()\n",
        "\n",
        "def aoc_input(day, split=True):\n",
        "    url = f\"https://adventofcode.com/2021/day/{day}/input\"\n",
        "    cache_fn = f\"{cache_dir}/d{day}.dat\"\n",
        "    if not os.path.exists(cache_fn):\n",
        "        cookies = {'session': session_id}\n",
        "        resp = requests.get(url, cookies=cookies)\n",
        "        data = resp.content.decode()\n",
        "        with open(cache_fn, 'w') as fh:\n",
        "            fh.write(data)\n",
        "    with open(cache_fn) as fh:\n",
        "        data = fh.read()\n",
        "    data = data.strip()\n",
        "    if split:\n",
        "        data = data.split('\\n')\n",
        "    return data"
      ],
      "execution_count": 1,
      "outputs": []
    },
    {
      "cell_type": "code",
      "metadata": {
        "colab": {
          "base_uri": "https://localhost:8080/"
        },
        "id": "j9_JQIIzKX4W",
        "outputId": "03ed01af-757c-4c53-997a-2e7575284384"
      },
      "source": [
        "inp = aoc_input(1)\n",
        "\n",
        "# day 1, puzzle 1\n",
        "inp = np.array([int(x) for x in inp])\n",
        "cnt = np.sum((inp[1:] - inp[:-1]) > 0)\n",
        "print(f\"Day 1, puzzle 1: {cnt}\")\n",
        "\n",
        "# day 1, puzzle 2\n",
        "strides = (inp.strides[0], inp.strides[0])\n",
        "shape = (len(inp) - 2, 3)\n",
        "inp2 = np.lib.stride_tricks.as_strided(inp, shape=shape, strides=strides)\n",
        "inp2 = np.sum(inp2, axis=1)\n",
        "cnt = np.sum((inp2[1:] - inp2[:-1]) > 0)\n",
        "print(f\"Day 1, puzzle 2: {cnt}\")"
      ],
      "execution_count": null,
      "outputs": [
        {
          "output_type": "stream",
          "name": "stdout",
          "text": [
            "Day 1, puzzle 1: 1316\n",
            "Day 1, puzzle 2: 1344\n"
          ]
        }
      ]
    },
    {
      "cell_type": "code",
      "metadata": {
        "colab": {
          "base_uri": "https://localhost:8080/"
        },
        "id": "Rd9X9otOrwwY",
        "outputId": "e2ba8c76-6a23-4271-c26d-3b5ea478fa24"
      },
      "source": [
        "inp = aoc_input(2)\n",
        "\n",
        "# day 2, puzzle 1\n",
        "axis_map = [\"forward\", \"down\", \"up\"]\n",
        "axis_id = np.eye(3, dtype=np.int)\n",
        "inp = [line.split(' ') for line in inp]\n",
        "cols = np.array([int(val) * axis_id[axis_map.index(dr)] for (dr, val) in inp])\n",
        "sums = np.sum(cols, axis=0)\n",
        "prod = sums[0] * (sums[1] - sums[2])\n",
        "print(f\"Day 2, puzzle 1: {prod}\")\n",
        "\n",
        "# day 2, puzzle 2\n",
        "aim = np.cumsum((cols[:, 1] + -cols[:, 2]))\n",
        "prod = np.sum(cols[:, 0]) * np.sum(cols[:, 0] * aim)\n",
        "print(f\"Day 2, puzzle 2: {prod}\")\n"
      ],
      "execution_count": null,
      "outputs": [
        {
          "output_type": "stream",
          "name": "stdout",
          "text": [
            "Day 2, puzzle 1: 1499229\n",
            "Day 2, puzzle 2: 1340836560\n"
          ]
        }
      ]
    },
    {
      "cell_type": "code",
      "metadata": {
        "id": "HQd5Dmy1rz3T",
        "colab": {
          "base_uri": "https://localhost:8080/"
        },
        "outputId": "b60e8ffb-1b69-4d71-d0a4-81a407926a57"
      },
      "source": [
        "inp = aoc_input(3)\n",
        "\n",
        "# day 3, puzzle 1\n",
        "n_items = len(inp)\n",
        "shape = (n_items, -1)\n",
        "inp = str.join('', inp).encode()\n",
        "inp = (np.frombuffer(inp, dtype=np.uint8).reshape(shape) - ord('0')).astype(np.int)\n",
        "bits = (2 ** np.arange(inp.shape[1]))[::-1]\n",
        "gamma = np.sum(bits * (np.sum(inp.T, axis=1) > (inp.shape[0] // 2)))\n",
        "prod = gamma * (~gamma & (2 ** inp.shape[1] - 1))\n",
        "print(f\"Day 3, puzzle 1: {prod}\")\n",
        "\n",
        "# day 3, puzzle 2\n",
        "t_col = lambda tbl, col: (np.sum(tbl.T, axis=1) >= ((tbl.shape[0] + 1) // 2))[col]\n",
        "t_mask = lambda tbl, col: tbl[tbl.T[col, :] == t_col(tbl, col)]\n",
        "t_find = lambda tbl, col: tbl if tbl.shape[0] == 1 else t_find(t_mask(tbl, col), col + 1)\n",
        "o2 = np.sum(bits * t_find(inp, 0))\n",
        "t_col = lambda tbl, col: (np.sum(tbl.T, axis=1) <= ((tbl.shape[0] - 1) // 2))[col]\n",
        "co2 = np.sum(bits * t_find(inp, 0))\n",
        "prod = o2 * co2\n",
        "print(f\"Day 3, puzzle 2: {prod}\")"
      ],
      "execution_count": null,
      "outputs": [
        {
          "output_type": "stream",
          "name": "stdout",
          "text": [
            "Day 3, puzzle 1: 2648450\n",
            "Day 3, puzzle 2: 2845944\n"
          ]
        }
      ]
    },
    {
      "cell_type": "code",
      "metadata": {
        "colab": {
          "base_uri": "https://localhost:8080/"
        },
        "id": "PX-NJHx71mbX",
        "outputId": "5d7f3f3b-2947-4c93-b406-f4ffdcba2fa8"
      },
      "source": [
        "inp = aoc_input(4, split=False)\n",
        "\n",
        "# day 4, puzzle 1\n",
        "\n",
        "n_items = len(inp)\n",
        "inp = inp.strip().split('\\n\\n')\n",
        "n_boards = len(inp) - 1\n",
        "calls = np.fromiter(map(int, inp[0].split(',')), dtype=np.int)\n",
        "inp = map(int, re.sub('\\s+', ' ', str.join(' ', inp[1:]).replace('\\n', ' ')).split(' '))\n",
        "inp = np.fromiter(inp, dtype=np.int)\n",
        "dim = int((len(inp) / n_boards) ** 0.5)\n",
        "inp = inp.reshape((n_boards, dim, dim))\n",
        "\n",
        "def mark_and_check(call, inp, marks):\n",
        "    bingo = -inp.shape[-1]\n",
        "    marks[inp == call] = -1\n",
        "    check = \\\n",
        "        (np.sum(marks.T, axis=0) == bingo) \\\n",
        "      | (np.sum(marks.T, axis=1) == bingo)\n",
        "    if np.any(check):\n",
        "        idx = np.argmax(check)\n",
        "        winner = np.unravel_index(idx, check.shape)[1]\n",
        "        idx = marks[winner] == 0\n",
        "        return (winner, np.sum(inp[winner][idx]) * call)\n",
        "\n",
        "def run_game(calls, inp, marks):\n",
        "    res = mark_and_check(calls[0], inp, marks)\n",
        "    if res is None:\n",
        "        return run_game(calls[1:], inp, marks)\n",
        "    return res[-1]\n",
        "\n",
        "marks = np.zeros_like(inp)\n",
        "prod = run_game(calls, inp, marks)\n",
        "print(f\"Day 4, puzzle 1: {prod}\")\n",
        "\n",
        "# day 4, puzzle 2\n",
        "\n",
        "def find_last(calls, inp, marks, last_prod=None):\n",
        "    if len(calls) == 0:\n",
        "        return last_prod\n",
        "    res = mark_and_check(calls[0], inp, marks)\n",
        "    if res is not None:\n",
        "        (winner, last_prod) = res\n",
        "        inp = np.delete(inp, winner, 0)\n",
        "        marks = np.delete(marks, winner, 0)\n",
        "        return find_last(calls, inp, marks, last_prod)\n",
        "    else:\n",
        "        return find_last(calls[1:], inp, marks, last_prod)\n",
        "\n",
        "marks = np.zeros_like(inp)\n",
        "prod = find_last(calls, inp, marks)\n",
        "print(f\"Day 4, puzzle 2: {prod}\")"
      ],
      "execution_count": null,
      "outputs": [
        {
          "output_type": "stream",
          "name": "stdout",
          "text": [
            "Day 4, puzzle 1: 49860\n",
            "Day 4, puzzle 2: 24628\n"
          ]
        }
      ]
    },
    {
      "cell_type": "code",
      "metadata": {
        "colab": {
          "base_uri": "https://localhost:8080/"
        },
        "id": "mS9yNcz8FfY9",
        "outputId": "421376b5-b27a-46eb-b917-0e2953e6a10e"
      },
      "source": [
        "inp = aoc_input(5)\n",
        "\n",
        "def line(pts, hv_only=True):\n",
        "    ((x0, y0), (x1, y1)) = pts\n",
        "    dx = abs(x1 - x0)\n",
        "    dy = abs(y1 - y0)\n",
        "    xi = min(x0, x1)\n",
        "    yi = min(y0, y1)\n",
        "    vals = list()\n",
        "    if dx == 0:\n",
        "        vals = [[x0, y + yi] for y in range(dy + 1)]\n",
        "    elif dy == 0:\n",
        "        vals = [[x + xi, y0] for x in range(dx + 1)]\n",
        "    elif not hv_only:\n",
        "        xx = np.arange(0, dx + 1) + xi\n",
        "        yy = np.arange(0, dy + 1) + yi\n",
        "        if xx[0] != x0: xx = xx[::-1]\n",
        "        if yy[0] != y0: yy = yy[::-1]\n",
        "        vals = list(zip(xx, yy))\n",
        "    return vals\n",
        "\n",
        "line_re = re.compile(\"(\\d+,\\d+) -> (\\d+,\\d+)\")\n",
        "evk = lambda it: tuple(map(eval, line_re.match(it).groups()))\n",
        "inp = [evk(it) for it in inp]\n",
        "\n",
        "# day 5, puzzle 1\n",
        "\n",
        "pts = itertools.chain(*[line(pts) for pts in inp])\n",
        "pts = np.array(list(pts))\n",
        "dim = np.max(pts.flatten()) + 1\n",
        "cnts = np.zeros((dim, dim), dtype=np.int)\n",
        "np.add.at(cnts, tuple(pts.T), 1)\n",
        "max_cnt = np.sum(cnts > 1)\n",
        "print(f\"Day 5, puzzle 1: {max_cnt}\")\n",
        "\n",
        "# day 5, puzzle 2\n",
        "\n",
        "pts = itertools.chain(*[line(pts, False) for pts in inp])\n",
        "pts = np.array(list(pts))\n",
        "dim = np.max(pts.flatten()) + 1\n",
        "cnts = np.zeros((dim, dim), dtype=np.int)\n",
        "np.add.at(cnts, tuple(pts.T), 1)\n",
        "max_cnt = np.sum(cnts > 1)\n",
        "print(f\"Day 5, puzzle 2: {max_cnt}\")"
      ],
      "execution_count": null,
      "outputs": [
        {
          "output_type": "stream",
          "name": "stdout",
          "text": [
            "Day 5, puzzle 1: 4421\n",
            "Day 5, puzzle 2: 18674\n"
          ]
        }
      ]
    },
    {
      "cell_type": "code",
      "metadata": {
        "colab": {
          "base_uri": "https://localhost:8080/"
        },
        "id": "BrZ2VJtENN8z",
        "outputId": "e2b09ef0-34c6-4b2b-9354-73cdce5feda2"
      },
      "source": [
        "inp = aoc_input(6, split=False)\n",
        "inp = list(map(int, inp.split(',')))\n",
        "\n",
        "def run_sim(counts, ttl=80):\n",
        "    if ttl == 0:\n",
        "        return counts\n",
        "    parents = counts[:7]\n",
        "    kids = counts[7:]\n",
        "    parents = np.roll(parents, -1)\n",
        "    new_kids = parents[-1]\n",
        "    parents[-1] += kids[0]\n",
        "    counts = np.concatenate((parents, kids[1:], [new_kids]))\n",
        "    return run_sim(counts, ttl=ttl - 1)\n",
        "\n",
        "# day 6, puzzle 1\n",
        "\n",
        "counts = np.zeros((9,), dtype=np.int)\n",
        "np.add.at(counts, inp, 1)\n",
        "total = np.sum(run_sim(counts))\n",
        "print(f\"Day 6, puzzle 1: {total}\")\n",
        "\n",
        "# day 6, puzzle 2\n",
        "\n",
        "counts = np.zeros((9,), dtype=np.int)\n",
        "np.add.at(counts, inp, 1)\n",
        "total = np.sum(run_sim(counts, ttl=256))\n",
        "print(f\"Day 6, puzzle 2: {total}\")"
      ],
      "execution_count": null,
      "outputs": [
        {
          "output_type": "stream",
          "name": "stdout",
          "text": [
            "Day 6, puzzle 1: 376194\n",
            "Day 6, puzzle 2: 1693022481538\n"
          ]
        }
      ]
    },
    {
      "cell_type": "code",
      "metadata": {
        "colab": {
          "base_uri": "https://localhost:8080/"
        },
        "id": "4htIYM3sRkQf",
        "outputId": "aff6bf75-2aa7-4111-f548-2068cfbe4f3a"
      },
      "source": [
        "inp = aoc_input(7, split=False)\n",
        "inp = np.array(list(map(int, inp.split(',')))).astype(np.int)\n",
        "\n",
        "# day 7, puzzle 1\n",
        "\n",
        "delta = np.abs(inp - np.median(inp)).astype(np.int)\n",
        "sum = np.sum(delta)\n",
        "print(f\"Day 7, puzzle 1: {sum}\")\n",
        "\n",
        "# day 7, puzzle 2\n",
        "\n",
        "pos = int(np.floor(np.mean(inp)))\n",
        "delta = np.abs(inp - pos).astype(np.int)\n",
        "sum = np.sum([np.sum(np.arange(1, d + 1)) for d in delta])\n",
        "print(f\"Day 7, puzzle 2: {sum}\")"
      ],
      "execution_count": null,
      "outputs": [
        {
          "output_type": "stream",
          "name": "stdout",
          "text": [
            "Day 7, puzzle 1: 328262\n",
            "Day 7, puzzle 2: 90040997\n"
          ]
        }
      ]
    },
    {
      "cell_type": "code",
      "metadata": {
        "id": "Pp1dNy29YAuz",
        "colab": {
          "base_uri": "https://localhost:8080/"
        },
        "outputId": "b9f1e269-29a5-4698-f247-ec6c82eabf08"
      },
      "source": [
        "inp = aoc_input(8)\n",
        "\n",
        "segmap = [\n",
        "  'abcefg', 'cf', 'acdeg', 'acdfg', 'bcdf', 'abdfg', 'abdefg', 'acf', 'abcdefg', 'abcdfg'\n",
        "]\n",
        "\n",
        "uniqs = [1, 4, 7, 8]\n",
        "uniqs_len = [len(segmap[val]) for val in uniqs]\n",
        "\n",
        "# day 8, puzzle 1\n",
        "\n",
        "sigs = [[ex.split(' ') for ex in it.split(' | ')] for it in inp]\n",
        "outp = list(zip(*sigs))[-1]\n",
        "sums = sum([sum([1 if len(wd) in uniqs_len else 0 for wd in out]) for out in outp])\n",
        "\n",
        "print(f\"Day 8, puzzle 1: {sums}\")\n",
        "\n",
        "# day 8, puzzle 2\n",
        "\n",
        "def fingerprint(sigs):\n",
        "    segset = [set(it) for it in sigs]\n",
        "    sigmap = np.zeros((len(segset), len(segset)))\n",
        "    for (idx_1, it_1) in enumerate(segset):\n",
        "        for (idx_2, it_2) in enumerate(segset):\n",
        "            sigmap[idx_1][idx_2] = len(it_1 & it_2)\n",
        "    sigmap = list(np.sum(sigmap, axis=0).astype(np.int))\n",
        "    return sigmap\n",
        "\n",
        "\n",
        "def eval_digits(sigs):\n",
        "    for (inp_sigs, outp_sigs) in sigs:\n",
        "        inp_fp = fingerprint(inp_sigs)\n",
        "        val_map = {tuple(sorted(sig)): truth_fp.index(fp) for (sig, fp) in zip(inp_sigs, inp_fp)}\n",
        "        vals = [val_map[tuple(sorted(sig))] for sig in outp_sigs]\n",
        "        val = int(str.join('', map(str, vals)))\n",
        "        yield val\n",
        "\n",
        "truth_fp = fingerprint(segmap)\n",
        "sums = sum(eval_digits(sigs))\n",
        "print(f\"Day 8, puzzle 2: {sums}\")"
      ],
      "execution_count": null,
      "outputs": [
        {
          "output_type": "stream",
          "name": "stdout",
          "text": [
            "Day 8, puzzle 1: 288\n",
            "Day 8, puzzle 2: 940724\n"
          ]
        }
      ]
    },
    {
      "cell_type": "code",
      "source": [
        "inp = aoc_input(9)\n",
        "n_items = len(inp)\n",
        "shape = (n_items, -1)\n",
        "inp = str.join('', inp).encode()\n",
        "inp = (np.frombuffer(inp, dtype=np.uint8).reshape(shape) - ord('0')).astype(np.int)\n",
        "\n",
        "# day 9, puzzle 1\n",
        "\n",
        "conv_f = np.array([\n",
        "  [0, 1, 0],\n",
        "  [0, 0, 0],\n",
        "  [0, 0, 0]\n",
        "])\n",
        "\n",
        "# up, right, down, left\n",
        "filters = [conv_f, np.fliplr(conv_f.T), np.flipud(conv_f), conv_f.T]\n",
        "conv = lambda inp, cf, fv: scipy.signal.convolve2d(inp, cf, 'same', fillvalue=fv)\n",
        "dirs = np.array([conv(inp, flt, 9) > inp for flt in filters])\n",
        "mask = np.all(dirs, axis=0)\n",
        "sums = np.sum(inp[mask] + 1)\n",
        "print(f\"Day 9, puzzle 1: {sums}\")\n",
        "\n",
        "# day 9, puzzle 2\n",
        "\n",
        "def flood(bitmask):\n",
        "    masks = np.array([conv(bitmask, flt, 0) for flt in filters])\n",
        "    mask = np.any(masks, axis=0)\n",
        "    return mask | bitmask\n",
        "\n",
        "def count_coord(inp, xy):\n",
        "    global global_map\n",
        "    step_mask = np.zeros_like(inp)\n",
        "    step_mask[xy[0]][xy[1]] = 1\n",
        "    last_count = None\n",
        "    dirmask = (inp < 9)\n",
        "    while True:\n",
        "        step_mask = flood(step_mask) * dirmask\n",
        "        count = np.sum(step_mask)\n",
        "        if count == last_count:\n",
        "            return count\n",
        "        last_count = count\n",
        "\n",
        "coords = np.argwhere(mask)\n",
        "res = [count_coord(inp, cc) for cc in coords]\n",
        "prod = np.prod(sorted(res)[-3:])\n",
        "print(f\"Day 9, puzzle 2: {prod}\")"
      ],
      "metadata": {
        "id": "HI0cJ2iRuN2f",
        "colab": {
          "base_uri": "https://localhost:8080/"
        },
        "outputId": "0bf13e5f-89ab-46af-cde0-02c555fb792a"
      },
      "execution_count": null,
      "outputs": [
        {
          "output_type": "stream",
          "name": "stdout",
          "text": [
            "Day 9, puzzle 1: 562\n",
            "Day 9, puzzle 2: 1076922\n"
          ]
        }
      ]
    },
    {
      "cell_type": "code",
      "source": [
        "inp = aoc_input(10)\n",
        "\n",
        "# day 10, puzzle 1\n",
        "\n",
        "openers = ('(', '[', '{', '<')\n",
        "closers = (')', ']', '}', '>')\n",
        "scores = (3, 57, 1197, 25137)\n",
        "\n",
        "def puzzle_one(line):\n",
        "    op_stack = []\n",
        "    for ch in line:\n",
        "        if ch in openers:\n",
        "            idx = openers.index(ch)\n",
        "            expect = closers[idx]\n",
        "            op_stack.append(expect)\n",
        "        else:\n",
        "            expect = op_stack.pop()\n",
        "            if ch != expect:\n",
        "                idx = closers.index(ch)\n",
        "                return scores[idx]\n",
        "    return 0\n",
        "\n",
        "sums = sum([puzzle_one(line) for line in inp])\n",
        "print(f\"Day 10, puzzle 1: {sums}\")\n",
        "\n",
        "# day 10, puzzle 2\n",
        "\n",
        "def puzzle_two(line):\n",
        "    op_stack = []\n",
        "    for ch in line:\n",
        "        if ch in openers:\n",
        "            idx = openers.index(ch)\n",
        "            expect = closers[idx]\n",
        "            op_stack.append(expect)\n",
        "        else:\n",
        "            expect = op_stack.pop()\n",
        "            if ch != expect:\n",
        "                return 0\n",
        "    total = 0\n",
        "    for ch in op_stack[::-1]:\n",
        "        total *= 5\n",
        "        total += (closers.index(ch) + 1)\n",
        "    return total\n",
        "\n",
        "scores = [consume(line) for line in inp]\n",
        "scores = sorted([score for score in scores if score > 0])\n",
        "idx = len(scores) // 2\n",
        "mid_score = scores[idx]\n",
        "print(f\"Day 10, puzzle 2: {mid_score}\")\n"
      ],
      "metadata": {
        "colab": {
          "base_uri": "https://localhost:8080/"
        },
        "id": "-j0-d1wWvUiZ",
        "outputId": "397ec93f-5e5f-4bb7-e6e2-70923767dd10"
      },
      "execution_count": null,
      "outputs": [
        {
          "output_type": "stream",
          "name": "stdout",
          "text": [
            "Day 10, puzzle 1: 266301\n",
            "Day 10, puzzle 2: 3404870164\n"
          ]
        }
      ]
    },
    {
      "cell_type": "code",
      "source": [
        "inp = aoc_input(11)\n",
        "n_items = len(inp)\n",
        "shape = (n_items, -1)\n",
        "inp = str.join('', inp).encode()\n",
        "inp = (np.frombuffer(inp, dtype=np.uint8).reshape(shape) - ord('0')).astype(np.int)\n",
        "\n",
        "def get_tile(xy, shape):\n",
        "    (x,y) = xy\n",
        "    x = (max(0, x - 1), min(shape[0], x + 2))\n",
        "    y = (max(0, y - 1), min(shape[1], y + 2))\n",
        "    xy = (slice(*x), slice(*y))\n",
        "    mask = np.ones((x[1] - x[0], y[1] - y[0]), dtype=np.int)\n",
        "    return (xy, mask)\n",
        "\n",
        "def step_dumbo(inp):\n",
        "    inp += 1\n",
        "    flashes = list(map(tuple, np.array(np.argwhere(inp == 10)).tolist()))\n",
        "    seen = set()\n",
        "    flash_count = 0\n",
        "    while flashes:\n",
        "        flash = flashes.pop()\n",
        "        seen.add(flash)\n",
        "        flash_count += 1\n",
        "        (xy, mask) = get_tile(flash, inp.shape)\n",
        "        inp[xy] += mask\n",
        "        flashes = list(map(tuple, np.array(np.argwhere(inp == 10)).tolist())) + flashes\n",
        "        flashes = list(set(flashes) - seen)\n",
        "    \n",
        "    # reset flash counter\n",
        "    for flash in seen:\n",
        "        inp[flash] = 0\n",
        "\n",
        "    return flash_count\n",
        "\n",
        "# day 11, puzzle 1\n",
        "\n",
        "p1_inp = inp.copy()\n",
        "sums = sum([step_dumbo(p1_inp) for idx in range(100)])\n",
        "print(f\"Day 11, puzzle 1: {sums}\")\n",
        "\n",
        "# day 11, puzzle 2\n",
        "\n",
        "p2_inp = inp.copy()\n",
        "step = 0\n",
        "last_count = 0\n",
        "while last_count != p2_inp.size:\n",
        "    step += 1\n",
        "    last_count = step_dumbo(p2_inp)\n",
        "\n",
        "print(f\"Day 11, puzzle 2: {step}\")"
      ],
      "metadata": {
        "colab": {
          "base_uri": "https://localhost:8080/"
        },
        "id": "SsfZPvHRFoBQ",
        "outputId": "d89f243b-1c1e-460e-df04-1ebbb31fd278"
      },
      "execution_count": 100,
      "outputs": [
        {
          "output_type": "stream",
          "name": "stdout",
          "text": [
            "Day 11, puzzle 1: 1642\n",
            "Day 11, puzzle 2: 320\n"
          ]
        }
      ]
    },
    {
      "cell_type": "code",
      "source": [
        ""
      ],
      "metadata": {
        "id": "0X-uzOEFag9P"
      },
      "execution_count": null,
      "outputs": []
    }
  ]
}