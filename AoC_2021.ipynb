{
  "nbformat": 4,
  "nbformat_minor": 0,
  "metadata": {
    "colab": {
      "name": "AoC.2021",
      "provenance": [],
      "mount_file_id": "1z_UdPl1Tpl7ULy9v9hHT3hiNWdVkEZ1i",
      "authorship_tag": "ABX9TyNtTnsaLqXnDP36TuwHScnh",
      "include_colab_link": true
    },
    "kernelspec": {
      "name": "python3",
      "display_name": "Python 3"
    },
    "language_info": {
      "name": "python"
    }
  },
  "cells": [
    {
      "cell_type": "markdown",
      "metadata": {
        "id": "view-in-github",
        "colab_type": "text"
      },
      "source": [
        "<a href=\"https://colab.research.google.com/github/vishnubob/AoC2021/blob/main/AoC_2021.ipynb\" target=\"_parent\"><img src=\"https://colab.research.google.com/assets/colab-badge.svg\" alt=\"Open In Colab\"/></a>"
      ]
    },
    {
      "cell_type": "code",
      "metadata": {
        "id": "waqo9f86KTAA"
      },
      "source": [
        "import os\n",
        "import requests\n",
        "\n",
        "cache_dir = \"/content/drive/MyDrive/AoC2021/\"\n",
        "\n",
        "session_fn = f\"{cache_dir}/session_id\"\n",
        "with open(session_fn) as fh:\n",
        "    session_id = fh.read().strip()\n",
        "\n",
        "def aoc_input(url, name):\n",
        "    cache_fn = f\"{cache_dir}/{name}.dat\"\n",
        "    if not os.path.exists(cache_fn):\n",
        "        cookies = {'session': session_id}\n",
        "        resp = requests.get(url, cookies=cookies)\n",
        "        data = resp.content.decode()\n",
        "        with open(cache_fn, 'w') as fh:\n",
        "            fh.write(data)\n",
        "    with open(cache_fn) as fh:\n",
        "        data = fh.read()\n",
        "    return data.strip()"
      ],
      "execution_count": 15,
      "outputs": []
    },
    {
      "cell_type": "code",
      "metadata": {
        "colab": {
          "base_uri": "https://localhost:8080/"
        },
        "id": "j9_JQIIzKX4W",
        "outputId": "da72baa2-44a2-4962-b8bc-e75061c55c42"
      },
      "source": [
        "# day 1, puzzle 1 / 2\n",
        "import numpy as np\n",
        "\n",
        "url = \"https://adventofcode.com/2021/day/1/input\"\n",
        "inp = aoc_input(url, \"d1p1\").split('\\n')\n",
        "inp = np.array([int(x) for x in inp])\n",
        "cnt = np.sum((inp[1:] - inp[:-1]) > 0)\n",
        "print(f\"Day 1, puzzle 1: {cnt}\")\n",
        "\n",
        "# puzzle 2, moving window\n",
        "strides = (inp.strides[0], inp.strides[0])\n",
        "shape = (len(inp) - 2, 3)\n",
        "inp2 = np.lib.stride_tricks.as_strided(inp, shape=shape, strides=strides)\n",
        "inp2 = np.sum(inp2, axis=1)\n",
        "cnt = np.sum((inp2[1:] - inp2[:-1]) > 0)\n",
        "print(f\"Day 1, puzzle 2: {cnt}\")"
      ],
      "execution_count": 44,
      "outputs": [
        {
          "output_type": "stream",
          "name": "stdout",
          "text": [
            "Day 1, puzzle 1: 1316\n",
            "Day 1, puzzle 2: 1344\n"
          ]
        }
      ]
    }
  ]
}