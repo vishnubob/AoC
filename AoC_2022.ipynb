{
  "nbformat": 4,
  "nbformat_minor": 0,
  "metadata": {
    "colab": {
      "provenance": [],
      "mount_file_id": "1wbFyYISFHCphoMaKDUXqKo9JHw4v46Mv",
      "authorship_tag": "ABX9TyMomxBE7T2yHX4iS5nXV6ne",
      "include_colab_link": true
    },
    "kernelspec": {
      "display_name": "Python 3",
      "name": "python3"
    },
    "language_info": {
      "name": "python"
    }
  },
  "cells": [
    {
      "cell_type": "markdown",
      "metadata": {
        "id": "view-in-github",
        "colab_type": "text"
      },
      "source": [
        "<a href=\"https://colab.research.google.com/github/vishnubob/AoC/blob/main/AoC_2022.ipynb\" target=\"_parent\"><img src=\"https://colab.research.google.com/assets/colab-badge.svg\" alt=\"Open In Colab\"/></a>"
      ]
    },
    {
      "cell_type": "code",
      "metadata": {
        "id": "waqo9f86KTAA"
      },
      "source": [
        "import os\n",
        "import re\n",
        "import sys\n",
        "import math\n",
        "import collections\n",
        "import functools\n",
        "import itertools\n",
        "import operator\n",
        "import requests\n",
        "import numpy as np\n",
        "import scipy.signal\n",
        "from tqdm import tqdm\n",
        "from pprint import pprint\n",
        "\n",
        "np.set_printoptions(threshold=sys.maxsize, linewidth=np.inf)\n",
        "\n",
        "cache_dir = \"/content/drive/MyDrive/AoC2022/\"\n",
        "\n",
        "session_fn = f\"{cache_dir}/session_id\"\n",
        "with open(session_fn) as fh:\n",
        "    session_id = fh.read().strip()\n",
        "\n",
        "def aoc_input(day, split=True):\n",
        "    url = f\"https://adventofcode.com/2022/day/{day}/input\"\n",
        "    cache_fn = f\"{cache_dir}/d{day}.dat\"\n",
        "    if not os.path.exists(cache_fn):\n",
        "        cookies = {'session': session_id}\n",
        "        resp = requests.get(url, cookies=cookies)\n",
        "        with open(cache_fn, 'wb') as fh:\n",
        "            fh.write(resp.content)\n",
        "    with open(cache_fn) as fh:\n",
        "        data = fh.read()\n",
        "    data = data.strip()\n",
        "    if split:\n",
        "        data = data.split('\\n')\n",
        "    return data"
      ],
      "execution_count": 1,
      "outputs": []
    },
    {
      "cell_type": "code",
      "metadata": {
        "colab": {
          "base_uri": "https://localhost:8080/"
        },
        "id": "j9_JQIIzKX4W",
        "outputId": "4d1bd933-6206-44ca-a1cd-e4de55a9d450"
      },
      "source": [
        "inp = aoc_input(1)\n",
        "\n",
        "def parse_input(inp):\n",
        "    vals = []\n",
        "    for item in inp:\n",
        "        if not item:\n",
        "            yield tuple(vals)\n",
        "            vals = []\n",
        "            continue\n",
        "        vals.append(int(item))\n",
        "    if vals:\n",
        "        yield tuple(vals)\n",
        "\n",
        "# d1p1\n",
        "sums = list(map(sum, parse_input(inp)))\n",
        "print(max(sums))\n",
        "# d1p2\n",
        "print(sum(sorted(sums, reverse=True)[:3]))\n"
      ],
      "execution_count": 2,
      "outputs": [
        {
          "output_type": "stream",
          "name": "stdout",
          "text": [
            "68775\n",
            "202585\n"
          ]
        }
      ]
    },
    {
      "cell_type": "code",
      "source": [
        "inp = aoc_input(2)\n",
        "\n",
        "def win_lose_draw(game):\n",
        "    (x, y) = game\n",
        "    if ((y + 1) % 3) == x:\n",
        "        return (y + 1)\n",
        "    if ((y - 1) % 3) == x:\n",
        "        return (y + 1 + 6)\n",
        "    return (y + 1 + 3)\n",
        "\n",
        "def next_move(game):\n",
        "    (x, y) = game\n",
        "    if y == 0:\n",
        "        return (x, (x - 1) % 3)\n",
        "    if y == 1:\n",
        "        return (x, x)\n",
        "    return (x, (x + 1) % 3)\n",
        "\n",
        "nums = lambda it: it.split(' ')\n",
        "inp = [(2 - (ord('C') - ord(x)), 2 - (ord('Z') - ord(y))) for (x, y) in map(nums, inp)]\n",
        "print(sum(map(win_lose_draw, inp)))\n",
        "print(sum(map(win_lose_draw, map(next_move, inp))))\n"
      ],
      "metadata": {
        "colab": {
          "base_uri": "https://localhost:8080/"
        },
        "id": "ujPineY2Ux5D",
        "outputId": "72823fce-11f5-4fae-ac8f-8bce61cc9dad"
      },
      "execution_count": 3,
      "outputs": [
        {
          "output_type": "stream",
          "name": "stdout",
          "text": [
            "10624\n",
            "14060\n"
          ]
        }
      ]
    },
    {
      "cell_type": "code",
      "source": [
        "inp = aoc_input(3)\n",
        "\n",
        "packs = [(set(val[:len(val) // 2]) & set(val[len(val) // 2:])) for val in inp]\n",
        "maps = {chr(ord('a') + x): (x + 1) for x in range(26)}\n",
        "maps.update({chr(ord('A') + x): (x + 27) for x in range(26)})\n",
        "print(sum([maps[it[0]] for it in map(list, packs)]))\n",
        "\n",
        "i = iter(inp)\n",
        "print(sum([maps[list(it)[0]] for it in [set.intersection(*map(set, it)) for it in (zip(i, i, i))]]))\n"
      ],
      "metadata": {
        "id": "KfDgm8Ad1_Jl",
        "colab": {
          "base_uri": "https://localhost:8080/"
        },
        "outputId": "f78ac8f1-b217-4adb-f161-fc580acc2fba"
      },
      "execution_count": 4,
      "outputs": [
        {
          "output_type": "stream",
          "name": "stdout",
          "text": [
            "7428\n",
            "2650\n"
          ]
        }
      ]
    },
    {
      "cell_type": "code",
      "source": [
        "inp = aoc_input(4)\n",
        "\n",
        "to_intv = lambda it: tuple(map(int, it.split('-')))\n",
        "data = [tuple(map(to_intv, line.split(','))) for line in inp]\n",
        "is_contained = lambda it: (it[0][0] <= it[1][0] and it[0][1] >= it[1][1]) or (it[0][0] >= it[1][0] and it[0][1] <= it[1][1])\n",
        "print(sum([is_contained(it) for it in data]))\n",
        "is_overlap = lambda it: (it[0][0] >= it[1][0] and it[0][0] <= it[1][1]) or (it[0][1] >= it[1][0] and it[0][1] <= it[1][1]) or is_contained(it)\n",
        "print(sum([is_overlap(it) for it in data]))\n"
      ],
      "metadata": {
        "colab": {
          "base_uri": "https://localhost:8080/"
        },
        "id": "trzlRJ5xmX5D",
        "outputId": "cf8b3bcd-a3f8-4e90-fc6e-ecc7f77169a5"
      },
      "execution_count": 5,
      "outputs": [
        {
          "output_type": "stream",
          "name": "stdout",
          "text": [
            "556\n",
            "876\n"
          ]
        }
      ]
    },
    {
      "cell_type": "code",
      "source": [
        "inp = aoc_input(5)\n",
        "space_re = re.compile('\\s+')\n",
        "crate_re = re.compile('[\\w]')\n",
        "\n",
        "moves = []\n",
        "crates = []\n",
        "for line in inp:\n",
        "    if not line.strip():\n",
        "        continue\n",
        "    if 'move' in line:\n",
        "        line = line.split(' ')\n",
        "        moves.append((int(line[1]), int(line[3]), int(line[5])))\n",
        "        continue\n",
        "    if line.startswith(' 1'):\n",
        "        continue\n",
        "    crates.append(line[1::4])\n",
        "\n",
        "max_len = max([len(ln) for ln in crates])\n",
        "new_crates = []\n",
        "for ln in crates:\n",
        "    n_pad = max_len - len(ln)\n",
        "    ln += ' ' * n_pad\n",
        "    new_crates.append(ln)\n",
        "crate_init = new_crates\n",
        "\n",
        "crates = [list(filter(bool, map(str.strip, st)))[::-1] for st in list(zip(*crate_init))]\n",
        "for (cnt, from_stack, to_stack) in moves:\n",
        "    payload = crates[from_stack - 1][-cnt:]\n",
        "    crates[to_stack - 1] += payload[::-1]\n",
        "    crates[from_stack - 1] = crates[from_stack - 1][:-cnt]\n",
        "\n",
        "tops = str.join('', crate_re.findall(str.join('', [it[-1] for it in crates])))\n",
        "print(tops)\n",
        "\n",
        "crates = [list(filter(bool, map(str.strip, st)))[::-1] for st in list(zip(*crate_init))]\n",
        "for (cnt, from_stack, to_stack) in moves:\n",
        "    payload = crates[from_stack - 1][-cnt:]\n",
        "    crates[to_stack - 1] += payload\n",
        "    crates[from_stack - 1] = crates[from_stack - 1][:-cnt]\n",
        "\n",
        "tops = str.join('', crate_re.findall(str.join('', [it[-1] for it in crates])))\n",
        "print(tops)"
      ],
      "metadata": {
        "id": "kZyBoWidnG5x",
        "colab": {
          "base_uri": "https://localhost:8080/"
        },
        "outputId": "dc2ef548-b905-45a7-f777-9b500e7f0cc4"
      },
      "execution_count": 6,
      "outputs": [
        {
          "output_type": "stream",
          "name": "stdout",
          "text": [
            "TBVFVDZPN\n",
            "VLCWHTDSZ\n"
          ]
        }
      ]
    },
    {
      "cell_type": "code",
      "source": [
        "inp = aoc_input(6)\n",
        "\n",
        "for line in inp:\n",
        "    if not line.strip():\n",
        "        continue\n",
        "    kmers = [(x + 4, len(set(line[x:x+4])) == 4) for x in range(len(line) - 4)]\n",
        "    for (idx, val) in kmers:\n",
        "        if val:\n",
        "            print(idx)\n",
        "            break\n",
        "\n",
        "for line in inp:\n",
        "    if not line.strip():\n",
        "        continue\n",
        "    kmers = [(x + 14, len(set(line[x:x+14])) == 14) for x in range(len(line) - 14)]\n",
        "    for (idx, val) in kmers:\n",
        "        if val:\n",
        "            print(idx)\n",
        "            break"
      ],
      "metadata": {
        "id": "JZVyZrgZrix9",
        "colab": {
          "base_uri": "https://localhost:8080/"
        },
        "outputId": "32fcae05-6bb3-4da6-beea-ab00aba951a2"
      },
      "execution_count": 7,
      "outputs": [
        {
          "output_type": "stream",
          "name": "stdout",
          "text": [
            "1287\n",
            "3716\n"
          ]
        }
      ]
    },
    {
      "cell_type": "code",
      "source": [
        "inp = aoc_input(7)\n",
        "\n",
        "class Directory:\n",
        "    def __init__(self, name, parent):\n",
        "        self.name = name\n",
        "        self.parent = parent\n",
        "        self.files = {}\n",
        "        self.dirs = {}\n",
        "    \n",
        "    def add_file(self, filename=None, size=None):\n",
        "        self.files[filename] = size\n",
        "\n",
        "    def add_directory(self, name=None):\n",
        "        self.dirs[name] = self.__class__(name=name, parent=self)\n",
        "    \n",
        "    def get_directory(self, name=None):\n",
        "        if name not in self.dirs:\n",
        "            self.add_directory(name=name)\n",
        "        return self.dirs[name]\n",
        "    \n",
        "    @property\n",
        "    def local_size(self):\n",
        "        return sum(self.files.values())\n",
        "\n",
        "    @property\n",
        "    def size(self):\n",
        "        size = 0\n",
        "        for child in self.dirs.values():\n",
        "            size += child.size\n",
        "        return size + self.local_size\n",
        "    \n",
        "    def flatten(self):\n",
        "        for child in self.dirs.values():\n",
        "            yield from child.flatten()\n",
        "        yield self\n",
        "\n",
        "root = Directory(name='/', parent=None)\n",
        "fs = root\n",
        "\n",
        "for line in inp:\n",
        "    parts = line.split(' ')\n",
        "    if parts[0] == '$':\n",
        "        if parts[1] == 'cd':\n",
        "            dir_name = parts[-1]\n",
        "            if dir_name == '..':\n",
        "                fs = fs.parent\n",
        "            else:\n",
        "                fs = fs.get_directory(dir_name)\n",
        "        continue\n",
        "    elif parts[0] == 'dir':\n",
        "        dir_name = parts[-1]\n",
        "        fs.add_directory(dir_name)\n",
        "    else:\n",
        "        size = int(parts[0])\n",
        "        filename = parts[1]\n",
        "        fs.add_file(filename=filename, size=size)\n",
        "\n",
        "sizes = [node.size for node in root.flatten()]\n",
        "print(sum([sz for sz in sizes if sz < 1e5]))\n",
        "\n",
        "total_size = int(7e7)\n",
        "required_capacity = int(3e7)\n",
        "available_capacity = total_size - root.size\n",
        "needed_capacity = required_capacity - available_capacity\n",
        "deltas = [(node.name, node.size - needed_capacity, node.size) for node in root.flatten() if node.size - needed_capacity > 0]  \n",
        "deltas = sorted(deltas, key=lambda it: it[1])\n",
        "print(deltas[0][-1])"
      ],
      "metadata": {
        "colab": {
          "base_uri": "https://localhost:8080/"
        },
        "outputId": "e4bad34d-a790-4de2-c9a6-b3db9aaf4dba",
        "id": "LAEy6hfQdfyZ"
      },
      "execution_count": 8,
      "outputs": [
        {
          "output_type": "stream",
          "name": "stdout",
          "text": [
            "1297683\n",
            "5756764\n"
          ]
        }
      ]
    },
    {
      "cell_type": "code",
      "source": [
        "inp = aoc_input(8)\n",
        "inp = np.array([list(map(int, line)) for line in inp])\n",
        "\n",
        "vis_count = (inp.shape[0] - 2) * 4 + 4\n",
        "for x in range(1, inp.shape[0] - 1):\n",
        "    for y in range(1, inp.shape[1] - 1):\n",
        "        val = inp[x][y]\n",
        "        row = 1 * (inp[x, :] < val)\n",
        "        col = 1 * (inp[:, y] < val)\n",
        "        codes = (row[:y], row[y+1:], col[:x], col[x+1:])\n",
        "        vis_count += int(any([np.sum(code) == len(code) for code in codes]))\n",
        "print(vis_count)\n",
        "\n",
        "scores = np.zeros_like(inp)\n",
        "for x in range(1, inp.shape[0] - 1):\n",
        "    for y in range(1, inp.shape[1] - 1):\n",
        "        val = inp[x][y]\n",
        "        row = 1 * (inp[x, :] < val)\n",
        "        col = 1 * (inp[:, y] < val)\n",
        "        codes = (row[:y][::-1], row[y+1:], col[:x][::-1], col[x+1:])\n",
        "        score = 1\n",
        "        for code in codes:\n",
        "            length = 0\n",
        "            for val in code:\n",
        "                length += 1\n",
        "                if not val:\n",
        "                    break\n",
        "            score *= length\n",
        "        scores[x][y] = score\n",
        "\n",
        "print(np.max(scores))"
      ],
      "metadata": {
        "colab": {
          "base_uri": "https://localhost:8080/"
        },
        "id": "bRnM0NmCH7eq",
        "outputId": "a74155fe-87d2-4691-84b0-4ea153c61375"
      },
      "execution_count": 9,
      "outputs": [
        {
          "output_type": "stream",
          "name": "stdout",
          "text": [
            "1827\n",
            "335580\n"
          ]
        }
      ]
    },
    {
      "cell_type": "code",
      "source": [
        "inp = aoc_input(9)\n",
        "\n",
        "DirectionMap = {\n",
        "    'R': np.array([0, 1]),\n",
        "    'L': np.array([0, -1]),\n",
        "    'D': np.array([-1, 0]),\n",
        "    'U': np.array([1, 0]),\n",
        "}\n",
        "\n",
        "def run_sim(move_list=None, knot_count=2, pos=(0, 0)):\n",
        "    move_hash = set()\n",
        "    knots = np.ones((knot_count, 2), dtype=int) * list(pos)\n",
        "    move_hash.add(tuple(pos))\n",
        "    for (direction, count) in move_list:\n",
        "        vec = DirectionMap[direction]\n",
        "        for step in range(count):\n",
        "            knots[0, :] += vec\n",
        "            for knot_idx in range(1, knot_count):\n",
        "                delta = knots[knot_idx - 1, :] - knots[knot_idx, :]\n",
        "                mag = np.linalg.norm(delta)\n",
        "                if mag < 2:\n",
        "                    break\n",
        "                knots[knot_idx, :] += np.sign(delta)\n",
        "            move_hash.add(tuple(knots[-1, :]))\n",
        "    return len(move_hash)\n",
        "\n",
        "move_list = list(map(lambda it: (it[0], int(it[1])), [it.split(' ') for it in inp]))\n",
        "print(run_sim(move_list=move_list, knot_count=2))\n",
        "print(run_sim(move_list=move_list, knot_count=10))"
      ],
      "metadata": {
        "colab": {
          "base_uri": "https://localhost:8080/"
        },
        "id": "E2hIlGJKVnMs",
        "outputId": "01e6358e-fc06-4a42-b7a7-66cf35e16684"
      },
      "execution_count": 10,
      "outputs": [
        {
          "output_type": "stream",
          "name": "stdout",
          "text": [
            "5513\n",
            "2427\n"
          ]
        }
      ]
    },
    {
      "cell_type": "code",
      "source": [
        "inp = aoc_input(10)\n",
        "\n",
        "periods = [20, 60, 100, 140, 180, 220]\n",
        "ary = {}\n",
        "x = 1\n",
        "next_x = None\n",
        "cycle = 1\n",
        "cols = 40\n",
        "rows = 6\n",
        "\n",
        "for line in inp:\n",
        "    parts = line.split(' ')\n",
        "    if next_x is not None:\n",
        "        x = next_x\n",
        "        next_x = None\n",
        "    if len(parts) == 1:\n",
        "        ary[cycle] = x\n",
        "        cycle += 1\n",
        "    elif len(parts) == 2:\n",
        "        next_x = x + int(parts[-1])\n",
        "        ary[cycle] = x\n",
        "        cycle += 1\n",
        "        ary[cycle] = x\n",
        "        cycle += 1\n",
        "\n",
        "print(sum([pt * ary[pt] for pt in periods]))\n",
        "\n",
        "fb = np.zeros((6*40), dtype=int)\n",
        "for cycle in range(rows * cols):\n",
        "    sprite = np.zeros((40,), dtype=int)\n",
        "    x = ary[cycle+1]\n",
        "    sprite[x-1:x+2] = 1\n",
        "    if sprite[cycle % 40]:\n",
        "        fb[cycle] = 1\n",
        "\n",
        "for line in fb.reshape((rows, cols)):\n",
        "    line = str.join('', map(str, list(line)))\n",
        "    line = line.replace('0', ' ')\n",
        "    line = line.replace('1', '#')\n",
        "    print(line)\n"
      ],
      "metadata": {
        "colab": {
          "base_uri": "https://localhost:8080/"
        },
        "id": "MaXmfDH-lY2w",
        "outputId": "db147986-f8b7-48bf-8140-c2ec4e0d637c"
      },
      "execution_count": 11,
      "outputs": [
        {
          "output_type": "stream",
          "name": "stdout",
          "text": [
            "11720\n",
            "#### ###   ##  ###  #### ###   ##    ## \n",
            "     #  # #  # #  # #    #  # #  #    # \n",
            "###  #  # #    #  # ###  #  # #       # \n",
            "     ###  #    ###  #    ###  #       # \n",
            "#    # #  #  # # #  #    #    #  # #  # \n",
            "#### #  #  ##  #  # #### #     ##   ##  \n"
          ]
        }
      ]
    },
    {
      "cell_type": "code",
      "source": [
        "class Monkey:\n",
        "    def __init__(self, idx=None, items=None, operation=None, phase=None, neighbors=None):\n",
        "        self.idx = idx\n",
        "        self.items = items\n",
        "        self.operation = operation.split(' ')\n",
        "        self.phase = phase\n",
        "        self.neighbors = neighbors\n",
        "        self.inspected = 0\n",
        "    \n",
        "    def __repr__(self):\n",
        "        rep = f'{self.__class__.__name__}(idx={self.idx}, items={self.items}, operation={repr(self.operation)}, phase={self.phase}, neighbors={self.neighbors})'\n",
        "        return rep\n",
        "    \n",
        "    @classmethod\n",
        "    def parse(cls, txt):\n",
        "        lines = txt.split('\\n')\n",
        "        assert lines[0].startswith('Monkey')\n",
        "        monkey_idx = int(lines[0].split(' ')[-1][:-1])\n",
        "        items = list(map(int, lines[1].split(':')[-1].split(',')))\n",
        "        operation = lines[2].split('=')[1][1:]\n",
        "        phase = int(lines[3].split(' ')[-1])\n",
        "        neighbors = [int(lines[4].split(' ')[-1]),  int(lines[5].split(' ')[-1])]\n",
        "        monkey_spec = dict(idx=monkey_idx, items=items, operation=operation, phase=phase, neighbors=neighbors)\n",
        "        return cls(**monkey_spec)\n",
        "    \n",
        "    def do_monkey_business(self, monkey_list=None, relax=3, shared_key=None):\n",
        "        items = self.items[:]\n",
        "        self.items = list()\n",
        "        for item in items:\n",
        "            if self.operation[1] == '+':\n",
        "                item = item + int(self.operation[2])\n",
        "            elif self.operation[1] == '*':\n",
        "                if self.operation[2] == 'old':\n",
        "                    item = item ** 2\n",
        "                else:\n",
        "                    item = item * int(self.operation[2])\n",
        "            else:\n",
        "                raise(0)\n",
        "            if relax > 1:\n",
        "                item = int(math.floor(item / relax))\n",
        "            if shared_key is not None:\n",
        "                item = item % shared_key\n",
        "\n",
        "            div_idx = int((item % self.phase) != 0)\n",
        "            nn = self.neighbors[div_idx]\n",
        "            monkey_list[nn].items.append(item)\n",
        "        self.inspected += len(items)\n",
        "\n",
        "inp = aoc_input(11, split=False)\n",
        "inp = inp.split('\\n\\n')\n",
        "\n",
        "monkey_list = [Monkey.parse(monkey_spec) for monkey_spec in inp]\n",
        "\n",
        "for n_round in range(20):\n",
        "    for monkey in monkey_list:\n",
        "        monkey.do_monkey_business(monkey_list=monkey_list)\n",
        "\n",
        "(monk_a, monk_b) = sorted([it.inspected for it in monkey_list])[-2:]\n",
        "print(monk_a * monk_b)\n",
        "\n",
        "monkey_list = [Monkey.parse(monkey_spec) for monkey_spec in inp]\n",
        "shared_key = functools.reduce(operator.mul, [monkey.phase for monkey in monkey_list], 1)\n",
        "for n_round in range(10000):\n",
        "    for monkey in monkey_list:\n",
        "        monkey.do_monkey_business(monkey_list=monkey_list, relax=1, shared_key=shared_key)\n",
        "\n",
        "(monk_a, monk_b) = sorted([it.inspected for it in monkey_list])[-2:]\n",
        "print(monk_a * monk_b)"
      ],
      "metadata": {
        "id": "yUPYvT76fp1J",
        "colab": {
          "base_uri": "https://localhost:8080/"
        },
        "outputId": "17df597e-382e-4cfb-ef77-91e831535e88"
      },
      "execution_count": 12,
      "outputs": [
        {
          "output_type": "stream",
          "name": "stdout",
          "text": [
            "119715\n",
            "18085004878\n"
          ]
        }
      ]
    },
    {
      "cell_type": "code",
      "source": [
        "def dfs(grid, start_pos, stop_pos):\n",
        "    start_pos = tuple(start_pos)\n",
        "    que = [start_pos]\n",
        "    visited = np.ones_like(grid) * -1\n",
        "    visited[start_pos] = 0\n",
        "    nn_vec =  [np.array([0, 1]), np.array([0, -1]),  np.array([-1, 0]),  np.array([1, 0])]\n",
        "\n",
        "    while que:\n",
        "        node = que.pop()\n",
        "        level = visited[node] + 1\n",
        "        for vec in nn_vec:\n",
        "            idx = np.array(node + vec)\n",
        "            bb_min = np.array([0, 0])\n",
        "            bb_max = np.array(grid.shape) - 1\n",
        "            idx = np.max((bb_min, idx), axis=0)\n",
        "            idx = np.min((bb_max, idx), axis=0)\n",
        "            idx = tuple(idx)\n",
        "            if visited[idx] >= 0:\n",
        "                continue\n",
        "            if (grid[idx] - grid[node]) > 1:\n",
        "                continue\n",
        "            visited[idx] = level\n",
        "            que = [idx] + que\n",
        "            if idx == stop_pos:\n",
        "                return level\n",
        "\n",
        "inp = aoc_input(12)\n",
        "inp = [list(map(lambda ch: ord(ch) - ord('a'), line)) for line in inp]\n",
        "grid = np.array(inp, dtype=int)\n",
        "grid[grid == (ord('S') - ord('a'))] = -1\n",
        "grid[grid == (ord('E') - ord('a'))] = np.max(grid) + 1\n",
        "start_pos = tuple(np.argwhere(grid == -1)[0])\n",
        "stop_pos = tuple(np.argwhere(grid == 26)[0])\n",
        "print(dfs(grid, start_pos, stop_pos))\n",
        "levels = [dfs(grid, start_pos, stop_pos) for start_pos in np.argwhere(grid == 0)]\n",
        "levels = [level for level in levels if level is not None]\n",
        "print(min(levels))\n"
      ],
      "metadata": {
        "colab": {
          "base_uri": "https://localhost:8080/"
        },
        "id": "JwOIQDGwIs6x",
        "outputId": "3bf531df-063a-4d1d-86a1-f5ff117dda69"
      },
      "execution_count": 13,
      "outputs": [
        {
          "output_type": "stream",
          "name": "stdout",
          "text": [
            "352\n",
            "345\n"
          ]
        }
      ]
    },
    {
      "cell_type": "code",
      "source": [],
      "metadata": {
        "id": "YsP0PsiwJTvI"
      },
      "execution_count": 13,
      "outputs": []
    }
  ]
}